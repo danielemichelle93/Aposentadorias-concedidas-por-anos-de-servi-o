{
  "nbformat": 4,
  "nbformat_minor": 0,
  "metadata": {
    "colab": {
      "name": "Aposentadorias concedidas por anos de serviço.ipynb",
      "version": "0.3.2",
      "provenance": [],
      "include_colab_link": true
    },
    "kernelspec": {
      "display_name": "Python 3",
      "language": "python",
      "name": "python3"
    }
  },
  "cells": [
    {
      "cell_type": "markdown",
      "metadata": {
        "id": "view-in-github",
        "colab_type": "text"
      },
      "source": [
        "<a href=\"https://colab.research.google.com/github/danielemichelle93/Aposentadorias-concedidas-por-anos-de-servi-o/blob/master/Aposentadorias_concedidas_por_anos_de_servi%C3%A7o.ipynb\" target=\"_parent\"><img src=\"https://colab.research.google.com/assets/colab-badge.svg\" alt=\"Open In Colab\"/></a>"
      ]
    },
    {
      "metadata": {
        "id": "nM48NqJuidEi",
        "colab_type": "code",
        "colab": {}
      },
      "cell_type": "code",
      "source": [
        "# Analisar dados sexualidade de pessoas aposentadas concedidas por anos de serviço\n",
        "# dados da quantidade de pessoas aposentadas durante o ano\n",
        "# sexualidade dos aposentados \n",
        "# sexualidade de pessoas aposentadas durante o ano de 1996 até 2016 em um grafico\n",
        "import pandas as pd"
      ],
      "execution_count": 0,
      "outputs": []
    },
    {
      "metadata": {
        "scrolled": true,
        "id": "0cyoqeg2idEu",
        "colab_type": "code",
        "colab": {},
        "outputId": "8b7a7276-0797-44a3-d5dd-8d2474922067"
      },
      "cell_type": "code",
      "source": [
        "# carregar os dados e converte por dataframe\n",
        "df = pd.read_csv('CON06.csv', encoding='cp1252')\n",
        "# mostra as 5 primeiras linha do dataframe\n",
        "df.head()\n",
        "#arquivo codificado como cp1252\n"
      ],
      "execution_count": 0,
      "outputs": [
        {
          "output_type": "execute_result",
          "data": {
            "text/html": [
              "<div>\n",
              "<style scoped>\n",
              "    .dataframe tbody tr th:only-of-type {\n",
              "        vertical-align: middle;\n",
              "    }\n",
              "\n",
              "    .dataframe tbody tr th {\n",
              "        vertical-align: top;\n",
              "    }\n",
              "\n",
              "    .dataframe thead th {\n",
              "        text-align: right;\n",
              "    }\n",
              "</style>\n",
              "<table border=\"1\" class=\"dataframe\">\n",
              "  <thead>\n",
              "    <tr style=\"text-align: right;\">\n",
              "      <th></th>\n",
              "      <th>Ano</th>\n",
              "      <th>Espécie</th>\n",
              "      <th>Anos de Serviço do Segurado</th>\n",
              "      <th>Sexo</th>\n",
              "      <th>Clientela</th>\n",
              "      <th>Qte Benefícios Concedidos</th>\n",
              "      <th>Vlr Benefícios Concedidos (R$)</th>\n",
              "      <th>Vlr Benef Concedidos (Mil R$)</th>\n",
              "    </tr>\n",
              "  </thead>\n",
              "  <tbody>\n",
              "    <tr>\n",
              "      <th>0</th>\n",
              "      <td>1996</td>\n",
              "      <td>42-Ap Tempo Contrib Lops</td>\n",
              "      <td>Até 15 Anos</td>\n",
              "      <td>Masculino</td>\n",
              "      <td>Urbana</td>\n",
              "      <td>0.0</td>\n",
              "      <td>0,00</td>\n",
              "      <td>0,00</td>\n",
              "    </tr>\n",
              "    <tr>\n",
              "      <th>1</th>\n",
              "      <td>1996</td>\n",
              "      <td>42-Ap Tempo Contrib Lops</td>\n",
              "      <td>Até 15 Anos</td>\n",
              "      <td>Feminino</td>\n",
              "      <td>Urbana</td>\n",
              "      <td>0.0</td>\n",
              "      <td>0,00</td>\n",
              "      <td>0,00</td>\n",
              "    </tr>\n",
              "    <tr>\n",
              "      <th>2</th>\n",
              "      <td>1996</td>\n",
              "      <td>46-Ap Tempo Contrib Especial</td>\n",
              "      <td>Até 15 Anos</td>\n",
              "      <td>Masculino</td>\n",
              "      <td>Urbana</td>\n",
              "      <td>48.0</td>\n",
              "      <td>26860,22</td>\n",
              "      <td>26,86</td>\n",
              "    </tr>\n",
              "    <tr>\n",
              "      <th>3</th>\n",
              "      <td>1996</td>\n",
              "      <td>46-Ap Tempo Contrib Especial</td>\n",
              "      <td>Até 15 Anos</td>\n",
              "      <td>Feminino</td>\n",
              "      <td>Urbana</td>\n",
              "      <td>0.0</td>\n",
              "      <td>0,00</td>\n",
              "      <td>0,00</td>\n",
              "    </tr>\n",
              "    <tr>\n",
              "      <th>4</th>\n",
              "      <td>1996</td>\n",
              "      <td>Outras Ap Tempo Contrib</td>\n",
              "      <td>Até 15 Anos</td>\n",
              "      <td>Masculino</td>\n",
              "      <td>Urbana</td>\n",
              "      <td>41.0</td>\n",
              "      <td>18272,77</td>\n",
              "      <td>18,27</td>\n",
              "    </tr>\n",
              "  </tbody>\n",
              "</table>\n",
              "</div>"
            ],
            "text/plain": [
              "    Ano                       Espécie Anos de Serviço do Segurado       Sexo  \\\n",
              "0  1996      42-Ap Tempo Contrib Lops                 Até 15 Anos  Masculino   \n",
              "1  1996      42-Ap Tempo Contrib Lops                 Até 15 Anos   Feminino   \n",
              "2  1996  46-Ap Tempo Contrib Especial                 Até 15 Anos  Masculino   \n",
              "3  1996  46-Ap Tempo Contrib Especial                 Até 15 Anos   Feminino   \n",
              "4  1996       Outras Ap Tempo Contrib                 Até 15 Anos  Masculino   \n",
              "\n",
              "  Clientela  Qte Benefícios Concedidos Vlr Benefícios Concedidos (R$)  \\\n",
              "0    Urbana                        0.0                           0,00   \n",
              "1    Urbana                        0.0                           0,00   \n",
              "2    Urbana                       48.0                       26860,22   \n",
              "3    Urbana                        0.0                           0,00   \n",
              "4    Urbana                       41.0                       18272,77   \n",
              "\n",
              "  Vlr Benef Concedidos (Mil R$)  \n",
              "0                          0,00  \n",
              "1                          0,00  \n",
              "2                         26,86  \n",
              "3                          0,00  \n",
              "4                         18,27  "
            ]
          },
          "metadata": {
            "tags": []
          },
          "execution_count": 6
        }
      ]
    },
    {
      "metadata": {
        "id": "PNpL3ZUIidE9",
        "colab_type": "code",
        "colab": {},
        "outputId": "23969dcb-3aa1-499b-b35d-e73d7353850b"
      },
      "cell_type": "code",
      "source": [
        "# quantidade de aposentados por ano de serviço\n",
        "df.count()"
      ],
      "execution_count": 0,
      "outputs": [
        {
          "output_type": "execute_result",
          "data": {
            "text/plain": [
              "Ano                               3880\n",
              "Espécie                           3880\n",
              "Anos de Serviço do Segurado       3880\n",
              "Sexo                              3880\n",
              "Clientela                         3880\n",
              "Qte Benefícios Concedidos         3879\n",
              "Vlr Benefícios Concedidos (R$)    3879\n",
              "Vlr Benef Concedidos (Mil R$)     3879\n",
              "dtype: int64"
            ]
          },
          "metadata": {
            "tags": []
          },
          "execution_count": 7
        }
      ]
    },
    {
      "metadata": {
        "id": "duGm_3WMidFI",
        "colab_type": "code",
        "colab": {},
        "outputId": "d412ecff-f95e-48a9-b4c9-1dfb0eb853ad"
      },
      "cell_type": "code",
      "source": [
        "#mostra os tipos de cada coluna \n",
        "df.dtypes"
      ],
      "execution_count": 0,
      "outputs": [
        {
          "output_type": "execute_result",
          "data": {
            "text/plain": [
              "Ano                                object\n",
              "Espécie                            object\n",
              "Anos de Serviço do Segurado        object\n",
              "Sexo                               object\n",
              "Clientela                          object\n",
              "Qte Benefícios Concedidos         float64\n",
              "Vlr Benefícios Concedidos (R$)     object\n",
              "Vlr Benef Concedidos (Mil R$)      object\n",
              "dtype: object"
            ]
          },
          "metadata": {
            "tags": []
          },
          "execution_count": 9
        }
      ]
    },
    {
      "metadata": {
        "id": "ZfkZLsoJidFU",
        "colab_type": "code",
        "colab": {},
        "outputId": "d54ae2bf-4b0b-4824-ddde-0b45d8410f41"
      },
      "cell_type": "code",
      "source": [
        "#dados da quantidade de pessoas aposentadas durante o ano \n",
        "df['Ano'].value_counts()"
      ],
      "execution_count": 0,
      "outputs": [
        {
          "output_type": "execute_result",
          "data": {
            "text/plain": [
              "2016    203\n",
              "2003    197\n",
              "2002    196\n",
              "1998    196\n",
              "2005    196\n",
              "1997    196\n",
              "2004    196\n",
              "2001    196\n",
              "2000    196\n",
              "1999    196\n",
              "2015    194\n",
              "2014    192\n",
              "1996    187\n",
              "2013    186\n",
              "2012    178\n",
              "2011    175\n",
              "2010    167\n",
              "2009    164\n",
              "2008    158\n",
              "2007    155\n",
              "2006    155\n",
              "-         1\n",
              "Name: Ano, dtype: int64"
            ]
          },
          "metadata": {
            "tags": []
          },
          "execution_count": 10
        }
      ]
    },
    {
      "metadata": {
        "id": "ac2p4NRPidFm",
        "colab_type": "code",
        "colab": {},
        "outputId": "4c8e98ed-f5cb-49d1-d729-bc89ff29fc7d"
      },
      "cell_type": "code",
      "source": [
        "#sexualidade dos aposentados \n",
        "df['Sexo'].value_counts()"
      ],
      "execution_count": 0,
      "outputs": [
        {
          "output_type": "execute_result",
          "data": {
            "text/plain": [
              "Masculino    2003\n",
              "Feminino     1876\n",
              "-               1\n",
              "Name: Sexo, dtype: int64"
            ]
          },
          "metadata": {
            "tags": []
          },
          "execution_count": 11
        }
      ]
    },
    {
      "metadata": {
        "id": "oE-GIoTUidFy",
        "colab_type": "code",
        "colab": {},
        "outputId": "0f6b0cca-41b4-47cd-b7b7-4aa4741f566c"
      },
      "cell_type": "code",
      "source": [
        "# mostrar os dados em um grafico\n",
        "%matplotlib inline\n",
        "\n",
        "# sexualidade de pessoas aposentadas durante o ano de 1996 até 2016 em um grafico\n",
        "# de barras\n",
        "df['Sexo'].value_counts().plot.bar()"
      ],
      "execution_count": 0,
      "outputs": [
        {
          "output_type": "execute_result",
          "data": {
            "text/plain": [
              "<matplotlib.axes._subplots.AxesSubplot at 0xe5e1710>"
            ]
          },
          "metadata": {
            "tags": []
          },
          "execution_count": 13
        },
        {
          "output_type": "display_data",
          "data": {
            "image/png": "[encoded data removed]",
            "text/plain": [
              "<Figure size 432x288 with 1 Axes>"
            ]
          },
          "metadata": {
            "tags": [],
            "needs_background": "light"
          }
        }
      ]
    }
  ]
}